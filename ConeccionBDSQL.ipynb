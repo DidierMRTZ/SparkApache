{
 "cells": [
  {
   "cell_type": "code",
   "execution_count": 1,
   "metadata": {},
   "outputs": [],
   "source": [
    "import findspark\n",
    "findspark.init()\n",
    "from pyspark.sql import SparkSession\n",
    "from pyspark import SparkContext\n",
    "from pyspark.sql.functions import *   #lit,col,expr,regexp_extract,regexp_replace,current_date, current_timestamp,date_format\n",
    "from pyspark.sql.types import StructField,StringType,StructType,DoubleType,LongType,IntegerType,FloatType,TimestampType,DataType\n",
    "import pyspark"
   ]
  },
  {
   "cell_type": "code",
   "execution_count": 2,
   "metadata": {},
   "outputs": [],
   "source": [
    "import psycopg2"
   ]
  },
  {
   "cell_type": "code",
   "execution_count": 3,
   "metadata": {},
   "outputs": [],
   "source": [
    "spark= SparkSession.builder.appName(\"DataFrame\").getOrCreate()"
   ]
  },
  {
   "cell_type": "code",
   "execution_count": 4,
   "metadata": {},
   "outputs": [],
   "source": [
    "host = \"pg.pg4e.com\"\n",
    "port = \"5432\"\n",
    "database = \"pg4e_e75e85dc24\"\n",
    "user = \"pg4e_e75e85dc24\"\n",
    "password = \"pg4e_p_e990e39aa8fe644\""
   ]
  },
  {
   "cell_type": "code",
   "execution_count": 5,
   "metadata": {},
   "outputs": [],
   "source": [
    "jdbc_url = f\"jdbc:postgresql://{host}:{port}/{database}\"\n",
    "connection_properties = {\n",
    "    \"user\": user,\n",
    "    \"password\": password,\n",
    "    \"driver\": \"org.postgresql.Driver\"\n",
    "}"
   ]
  },
  {
   "cell_type": "code",
   "execution_count": 6,
   "metadata": {},
   "outputs": [],
   "source": [
    "df = spark.read \\\n",
    "    .jdbc(url=jdbc_url, table=\"docs03\", properties=connection_properties)\n"
   ]
  },
  {
   "cell_type": "code",
   "execution_count": 8,
   "metadata": {},
   "outputs": [],
   "source": [
    "\n",
    "df.createOrReplaceTempView(\"df\")\n"
   ]
  },
  {
   "cell_type": "code",
   "execution_count": 59,
   "metadata": {},
   "outputs": [],
   "source": [
    "df2=spark.sql(\"SELECT distinct(id,doc) as array, array('casa',1) as set from df\")\n",
    "df2.createOrReplaceTempView(\"df2\")"
   ]
  },
  {
   "cell_type": "code",
   "execution_count": 40,
   "metadata": {},
   "outputs": [],
   "source": [
    "from pyspark.sql.types import *\n",
    "    "
   ]
  },
  {
   "cell_type": "code",
   "execution_count": 41,
   "metadata": {},
   "outputs": [],
   "source": [
    "\n",
    "#Creo funciones dentro de spark\n",
    "def capitalize(string):\n",
    "    if type(string)!=str:\n",
    "        return(None)\n",
    "    else:\n",
    "        return(\" \".join(string))\n"
   ]
  },
  {
   "cell_type": "code",
   "execution_count": 43,
   "metadata": {},
   "outputs": [
    {
     "name": "stdout",
     "output_type": "stream",
     "text": [
      "+--------------------+\n",
      "|     capitalize(doc)|\n",
      "+--------------------+\n",
      "|W e   c a l l   t...|\n",
      "|h a v e   v e r y...|\n",
      "|P y t h o n   p r...|\n",
      "|y o u   w r i t e...|\n",
      "|y o u   c a l l e...|\n",
      "+--------------------+\n",
      "only showing top 5 rows\n",
      "\n"
     ]
    }
   ],
   "source": [
    "#Registro y creo funcion de prueba\n",
    "spark.udf.register(\"capitalize\",capitalize,StringType())\n",
    "#Ejecuto funcion\n",
    "spark.sql(\"SELECT capitalize(doc) FROM df\").show(5)"
   ]
  },
  {
   "cell_type": "code",
   "execution_count": 68,
   "metadata": {},
   "outputs": [
    {
     "name": "stdout",
     "output_type": "stream",
     "text": [
      "+----+-----------------+\n",
      "|  c1|            array|\n",
      "+----+-----------------+\n",
      "|casa|{396, Neon 10385}|\n",
      "|   1|{396, Neon 10385}|\n",
      "|casa|{542, Neon 10531}|\n",
      "|   1|{542, Neon 10531}|\n",
      "|casa|{624, Neon 10613}|\n",
      "+----+-----------------+\n",
      "only showing top 5 rows\n",
      "\n"
     ]
    }
   ],
   "source": [
    "#Manejo arrays\n",
    "spark.sql(\"SELECT EXPLODE(set) as c1,array FROM df2\").show(5)\n",
    "#Busco en Array\n",
    "spark.sql(\"SELECT array_contains(set,'casa') as c1,array FROM df2\").show(5)"
   ]
  },
  {
   "cell_type": "code",
   "execution_count": 79,
   "metadata": {},
   "outputs": [
    {
     "name": "stdout",
     "output_type": "stream",
     "text": [
      "+---------+-----------------+\n",
      "|       c1|            array|\n",
      "+---------+-----------------+\n",
      "|[Casa, 1]|{396, Neon 10385}|\n",
      "|[Casa, 1]|{542, Neon 10531}|\n",
      "|[Casa, 1]|{624, Neon 10613}|\n",
      "|[Casa, 1]|{657, Neon 10646}|\n",
      "|[Casa, 1]|{683, Neon 10672}|\n",
      "+---------+-----------------+\n",
      "only showing top 5 rows\n",
      "\n",
      "+------+-----------------+\n",
      "|    c1|            array|\n",
      "+------+-----------------+\n",
      "|[casa]|{396, Neon 10385}|\n",
      "|[casa]|{542, Neon 10531}|\n",
      "|[casa]|{624, Neon 10613}|\n",
      "|[casa]|{657, Neon 10646}|\n",
      "|[casa]|{683, Neon 10672}|\n",
      "+------+-----------------+\n",
      "only showing top 5 rows\n",
      "\n"
     ]
    }
   ],
   "source": [
    "#Funciones Lambda a los arrays\n",
    "spark.sql(\"SELECT transform(set, element -> initcap(element)) as c1,array FROM df2\").show(5)\n",
    "spark.sql(\"SELECT filter(set, element -> element='casa') as c1,array FROM df2\").show(5)"
   ]
  }
 ],
 "metadata": {
  "kernelspec": {
   "display_name": "base",
   "language": "python",
   "name": "python3"
  },
  "language_info": {
   "codemirror_mode": {
    "name": "ipython",
    "version": 3
   },
   "file_extension": ".py",
   "mimetype": "text/x-python",
   "name": "python",
   "nbconvert_exporter": "python",
   "pygments_lexer": "ipython3",
   "version": "3.9.13"
  },
  "orig_nbformat": 4
 },
 "nbformat": 4,
 "nbformat_minor": 2
}
